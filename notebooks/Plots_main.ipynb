{
 "cells": [
  {
   "cell_type": "markdown",
   "metadata": {},
   "source": [
    "# Regional employment vulnerability to rapid coal transition in China and India, an integrated and downscaled assessment"
   ]
  },
  {
   "cell_type": "code",
   "execution_count": 1,
   "metadata": {},
   "outputs": [
    {
     "name": "stderr",
     "output_type": "stream",
     "text": [
      "c:\\Users\\augus\\anaconda3\\envs\\Geopandas\\lib\\site-packages\\geopandas\\_compat.py:106: UserWarning: The Shapely GEOS version (3.8.0-CAPI-1.13.1 ) is incompatible with the GEOS version PyGEOS was compiled with (3.10.4-CAPI-1.16.2). Conversions between both will be slow.\n",
      "  warnings.warn(\n"
     ]
    }
   ],
   "source": [
    "# Importing libraries\n",
    "import geopandas as gpd\n",
    "import pandas as pd\n",
    "import numpy as np\n",
    "from datetime import date\n",
    "from pyproj import CRS\n",
    "\n",
    "\n",
    "# Plotting parameters\n",
    "import matplotlib.pyplot as plt\n",
    "import matplotlib\n",
    "from shapely.geometry import Point\n",
    "from matplotlib.patches import FancyArrowPatch\n",
    "import matplotlib.lines as mlines\n",
    "from matplotlib.font_manager import FontProperties\n",
    "import xycmap\n",
    "from matplotlib.colors import PowerNorm\n",
    "from matplotlib import ticker\n",
    "import seaborn as sns\n",
    "from IPython.display import Markdown as md\n",
    "\n",
    "plt.rcParams['font.size'] = 9\n",
    "matplotlib.rcParams[\"legend.frameon\"] = False\n",
    "matplotlib.rcParams[\"legend.fancybox\"] = False\n",
    "matplotlib.rcParams['axes.unicode_minus'] = False\n",
    "matplotlib.rcParams['font.family'] = 'Arial'\n",
    "matplotlib.rcParams['axes.unicode_minus'] = False\n",
    "formatter = ticker.ScalarFormatter(useMathText=True)\n",
    "formatter.set_scientific(True)\n",
    "formatter.set_powerlimits((-1, 1))\n"
   ]
  },
  {
   "cell_type": "code",
   "execution_count": 2,
   "metadata": {},
   "outputs": [],
   "source": [
    "# Plotting functions\n",
    "#    Stacked bars function\n",
    "def get_cumulated_array(data, **kwargs):\n",
    "    cum = data.clip(**kwargs)\n",
    "    cum = np.cumsum(cum, axis=0)\n",
    "    d = np.zeros(np.shape(data))\n",
    "    d[1:] = cum[:-1]\n",
    "    return d\n",
    "\n",
    "#    Rectangle stripes function\n",
    "from matplotlib.patches import Rectangle\n",
    "from matplotlib.legend_handler import HandlerBase\n",
    "\n",
    "class HandlerColormap(HandlerBase):\n",
    "    def __init__(self, cmap, num_stripes=8, **kw):\n",
    "        HandlerBase.__init__(self, **kw)\n",
    "        self.cmap = cmap\n",
    "        self.num_stripes = num_stripes\n",
    "\n",
    "    def create_artists(self, legend, orig_handle, xdescent, ydescent, width,\n",
    "                       height, fontsize, trans):\n",
    "        stripes = []\n",
    "        for i in range(self.num_stripes):\n",
    "            s = Rectangle([xdescent + i * width / self.num_stripes, ydescent],\n",
    "                          width / self.num_stripes,\n",
    "                          height,\n",
    "                          fc=self.cmap((2 * i + 1) / (2 * self.num_stripes)),\n",
    "                          transform=trans)\n",
    "            stripes.append(s)\n",
    "        return stripes\n",
    "    \n",
    "# Functions used for bivariate plot \n",
    "def weighted_average(df, value, weight, country):\n",
    "    return (df[df['Region'] == country][value] * df[df['Region'] == country][weight]).sum() / df[df['Region'] == country][weight].sum()\n",
    "\n",
    "def interpol(x, xlim, ylim):\n",
    "    y = ylim[0] + (ylim[1]-ylim[0])/(xlim[1]-xlim[0])*(x-xlim[0])\n",
    "    return y"
   ]
  },
  {
   "cell_type": "code",
   "execution_count": null,
   "metadata": {},
   "outputs": [],
   "source": []
  }
 ],
 "metadata": {
  "kernelspec": {
   "display_name": "Geopandas",
   "language": "python",
   "name": "python3"
  },
  "language_info": {
   "codemirror_mode": {
    "name": "ipython",
    "version": 3
   },
   "file_extension": ".py",
   "mimetype": "text/x-python",
   "name": "python",
   "nbconvert_exporter": "python",
   "pygments_lexer": "ipython3",
   "version": "3.9.13"
  }
 },
 "nbformat": 4,
 "nbformat_minor": 2
}
